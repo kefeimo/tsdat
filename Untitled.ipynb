{
 "cells": [
  {
   "cell_type": "code",
   "execution_count": 4,
   "id": "94ddf1d8",
   "metadata": {},
   "outputs": [],
   "source": [
    "import boto3\n",
    "import os\n",
    "\n",
    "os.enviro"
   ]
  },
  {
   "cell_type": "code",
   "execution_count": null,
   "id": "9eef5d01",
   "metadata": {},
   "outputs": [],
   "source": [
    "n['AWS_PROFILE'] = \"332883119153_PowerUserAccess\"\n",
    "os.environ['AWS_DEFAULT_REGION'] = \"us-west-2\"\n",
    "\n",
    "#Creating Session With Boto3.\n",
    "session = boto3.Session(\n",
    "# aws_access_key_id='<your_access_key_id>',\n",
    "# aws_secret_access_key='<your_secret_access_key>'\n",
    ")\n",
    "\n",
    "#Creating S3 Resource From the Session.\n",
    "s3 = session.resource('s3')\n"
   ]
  },
  {
   "cell_type": "code",
   "execution_count": 8,
   "id": "9e3e1f53",
   "metadata": {},
   "outputs": [
    {
     "name": "stdout",
     "output_type": "stream",
     "text": [
      "{'ResponseMetadata': {'RequestId': 'WZTWG32110KY9AX0', 'HostId': 'ojlraPgidLl3V4tc5b37cbX/C4E34afHlRaIQ1iFv3000QqyW9D7U6Mt0g3xuKHeSaeNJwclBPQ=', 'HTTPStatusCode': 200, 'HTTPHeaders': {'x-amz-id-2': 'ojlraPgidLl3V4tc5b37cbX/C4E34afHlRaIQ1iFv3000QqyW9D7U6Mt0g3xuKHeSaeNJwclBPQ=', 'x-amz-request-id': 'WZTWG32110KY9AX0', 'date': 'Mon, 01 Aug 2022 06:06:22 GMT', 'x-amz-server-side-encryption': 'AES256', 'etag': '\"8be215e8b070c4c4da758975cee864d2\"', 'server': 'AmazonS3', 'content-length': '0'}, 'RetryAttempts': 0}, 'ETag': '\"8be215e8b070c4c4da758975cee864d2\"', 'ServerSideEncryption': 'AES256'}\n"
     ]
    }
   ],
   "source": [
    "\n",
    "\n",
    "txt_data = b'This is the content of the file uploaded from python boto3 asdfasdf'\n",
    "\n",
    "bucket_name = \"kefei-test\"\n",
    "\n",
    "object = s3.Object(bucket_name, 'file_uploaded_by_boto3.txt')\n",
    "\n",
    "result = object.put(Body=txt_data)\n",
    "\n",
    "print(result)\n",
    "                "
   ]
  },
  {
   "cell_type": "code",
   "execution_count": 11,
   "id": "817f3d65",
   "metadata": {},
   "outputs": [
    {
     "name": "stdout",
     "output_type": "stream",
     "text": [
      "None\n"
     ]
    }
   ],
   "source": [
    "# Upload the file\n",
    "s3_client = boto3.client('s3')\n",
    "bucket = \"kefei-test\"\n",
    "file_name = \"file_uploaded.txt\"\n",
    "object_name = file_name\n",
    "try:\n",
    "    response = s3_client.upload_file(file_name, bucket, object_name)\n",
    "    print(response)\n",
    "except ClientError as e:\n",
    "    logging.error(e)\n",
    "    \n"
   ]
  },
  {
   "cell_type": "code",
   "execution_count": null,
   "id": "d73b38aa",
   "metadata": {},
   "outputs": [],
   "source": []
  }
 ],
 "metadata": {
  "kernelspec": {
   "display_name": "Python 3 (ipykernel)",
   "language": "python",
   "name": "python3"
  },
  "language_info": {
   "codemirror_mode": {
    "name": "ipython",
    "version": 3
   },
   "file_extension": ".py",
   "mimetype": "text/x-python",
   "name": "python",
   "nbconvert_exporter": "python",
   "pygments_lexer": "ipython3",
   "version": "3.8.13"
  }
 },
 "nbformat": 4,
 "nbformat_minor": 5
}
